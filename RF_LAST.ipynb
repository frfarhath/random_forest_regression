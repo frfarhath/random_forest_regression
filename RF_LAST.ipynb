{
  "nbformat": 4,
  "nbformat_minor": 0,
  "metadata": {
    "colab": {
      "provenance": [],
      "authorship_tag": "ABX9TyNA3kxZeW5jP0d6aYv7WVCx",
      "include_colab_link": true
    },
    "kernelspec": {
      "name": "python3",
      "display_name": "Python 3"
    },
    "language_info": {
      "name": "python"
    }
  },
  "cells": [
    {
      "cell_type": "markdown",
      "metadata": {
        "id": "view-in-github",
        "colab_type": "text"
      },
      "source": [
        "<a href=\"https://colab.research.google.com/github/frfarhath/random_forest_regression/blob/main/RF_LAST.ipynb\" target=\"_parent\"><img src=\"https://colab.research.google.com/assets/colab-badge.svg\" alt=\"Open In Colab\"/></a>"
      ]
    },
    {
      "cell_type": "code",
      "execution_count": 3,
      "metadata": {
        "colab": {
          "base_uri": "https://localhost:8080/"
        },
        "id": "D2HTZfmRLMwf",
        "outputId": "38344280-1ccf-4d29-e2fd-fb665dde6b58"
      },
      "outputs": [
        {
          "output_type": "stream",
          "name": "stdout",
          "text": [
            "Requirement already satisfied: pandas in /usr/local/lib/python3.11/dist-packages (2.2.2)\n",
            "Requirement already satisfied: openpyxl in /usr/local/lib/python3.11/dist-packages (3.1.5)\n",
            "Requirement already satisfied: scikit-learn in /usr/local/lib/python3.11/dist-packages (1.6.0)\n",
            "Requirement already satisfied: numpy>=1.23.2 in /usr/local/lib/python3.11/dist-packages (from pandas) (1.26.4)\n",
            "Requirement already satisfied: python-dateutil>=2.8.2 in /usr/local/lib/python3.11/dist-packages (from pandas) (2.8.2)\n",
            "Requirement already satisfied: pytz>=2020.1 in /usr/local/lib/python3.11/dist-packages (from pandas) (2024.2)\n",
            "Requirement already satisfied: tzdata>=2022.7 in /usr/local/lib/python3.11/dist-packages (from pandas) (2024.2)\n",
            "Requirement already satisfied: et-xmlfile in /usr/local/lib/python3.11/dist-packages (from openpyxl) (2.0.0)\n",
            "Requirement already satisfied: scipy>=1.6.0 in /usr/local/lib/python3.11/dist-packages (from scikit-learn) (1.13.1)\n",
            "Requirement already satisfied: joblib>=1.2.0 in /usr/local/lib/python3.11/dist-packages (from scikit-learn) (1.4.2)\n",
            "Requirement already satisfied: threadpoolctl>=3.1.0 in /usr/local/lib/python3.11/dist-packages (from scikit-learn) (3.5.0)\n",
            "Requirement already satisfied: six>=1.5 in /usr/local/lib/python3.11/dist-packages (from python-dateutil>=2.8.2->pandas) (1.17.0)\n"
          ]
        }
      ],
      "source": [
        "# Install Required Libraries\n",
        "!pip install pandas openpyxl scikit-learn\n",
        "\n",
        "import numpy as np\n",
        "import pandas as pd\n",
        "from sklearn.model_selection import train_test_split\n",
        "from sklearn.ensemble import RandomForestRegressor\n",
        "from sklearn.metrics import mean_absolute_error, r2_score\n",
        "from sklearn.model_selection import GridSearchCV\n",
        "import seaborn as sns"
      ]
    },
    {
      "cell_type": "code",
      "source": [
        "# Mount Google Drive\n",
        "from google.colab import drive\n",
        "drive.mount('/content/gdrive')\n",
        "\n",
        "# Create a shortcut to My Drive\n",
        "!ln -s /content/gdrive/My\\ Drive/ /mydrive\n",
        "!ls /mydrive"
      ],
      "metadata": {
        "colab": {
          "base_uri": "https://localhost:8080/"
        },
        "id": "tA8rmPylLUOf",
        "outputId": "652b2a6c-faa5-4610-e2ee-cb4e41234672"
      },
      "execution_count": 4,
      "outputs": [
        {
          "output_type": "stream",
          "name": "stdout",
          "text": [
            "Mounted at /content/gdrive\n",
            " 01_02_2022_13_23_13_6175243.jpg\n",
            " 11,12,13.gdoc\n",
            " 1.1.purposal.gdoc\n",
            " 1234.pdf\n",
            "'1 (4).png'\n",
            "'15th Gen Rep.gsheet'\n",
            "'161098-network-template-16x9 - Bar chart 1.gsheet'\n",
            "'1653404307006_DBMS project (1).gdoc'\n",
            "'1653404307006_DBMS project.gdoc'\n",
            "'1653404307006_DBMS project.pdf'\n",
            " 1658758001880.gif\n",
            " 1664715270091.jpg\n",
            "'1st year 2 Sem. form.gdoc'\n",
            "'1st year 2 Sem. form.pdf'\n",
            "'2nd sem Hostal form (1).gdoc'\n",
            "'2nd sem Hostal form.gdoc'\n",
            "'2nd sem Hostal form.pdf'\n",
            " 35.pptx\n",
            "'4_ Dealing with victims of violence and abuse UoSJ 04th June 2023.gslides'\n",
            " 5_6082374698518185464.pdf\n",
            " ABC.jpg\n",
            " ABC.zip\n",
            " Abstract.gdoc\n",
            "'Aesthetic end Exam questions.gdoc'\n",
            " Afritha-Farhath.gdoc\n",
            " Afritha-Script.gdoc\n",
            "'Agenda -Virtuosa F.gdoc'\n",
            " aidf4-core-javascript-main\n",
            " aidf4-core-javascript-main.zip\n",
            " Article-Fathima.gdoc\n",
            " Article.gdoc\n",
            "'Assessment 02-UWU_CST_20_035.pdf'\n",
            " Assignment05-CST20035.gdoc\n",
            " Assignment2-Fathima.gdoc\n",
            "'assignment DHRM - Copy.gdoc'\n",
            "'Assignment- UWUCST20035 (1).gdoc'\n",
            "'Assignment- UWUCST20035.gdoc'\n",
            "'Case Study 5 new.gslides'\n",
            "'Central Tendency (1).pdf'\n",
            "'Central Tendency.pdf'\n",
            " Clerk.gdoc\n",
            "'Cognitive Behavioural Therapy dip3.pptx'\n",
            "'Colab Notebooks'\n",
            "'Communication skills.gdoc'\n",
            "'Cricket- Data Analysis and Report Writting.gdoc'\n",
            " CS2-CST20035.pdf\n",
            " cst20035\n",
            "'cst20035 (1)'\n",
            "'CST20035-Assignmnet 2.gdoc'\n",
            " CST20035-Farhath.pdf\n",
            " CST20035_F.R.FARHATH\n",
            " CST20035-F.R.FARHATH.mp4\n",
            "'CST20035-Intelligent Systems (CST 372-3).gdoc'\n",
            " CST20035.pptx\n",
            "'cst20044-MHF.Sameera part-A.pdf'\n",
            "'CST 24 (1).gslides'\n",
            "'CST 24.gslides'\n",
            "'CST-Group 24.gslides'\n",
            "'CST-Group 27.gdoc'\n",
            "'CS-UWU_CST_20_035- FARHATH.pdf'\n",
            "'DATABASE MANAGEMENT SYSTEMS(P) (1).gdoc'\n",
            "'DATABASE MANAGEMENT SYSTEMS(P).gdoc'\n",
            "'DBMS .gsheet'\n",
            " Discussion.gdoc\n",
            " DOC-20231026-WA0004..pdf\n",
            "'Document from CSTian.pdf'\n",
            "'Document from Farhath CST Chilaw'\n",
            "'Document from Rahman Farhath'\n",
            " English.pptx\n",
            " Er-Diagram.drawio\n",
            " Essay.gdoc\n",
            "'Faisa_CST20094 (1).pdf'\n",
            " FAISA.gdoc\n",
            " Farhath.mp4\n",
            "'Faru- RF.gdoc'\n",
            "'Faslur Rahman Farhath.png'\n",
            "'Fathima - Article.gdoc'\n",
            " FATHIMA-ELECTIVE.gdoc\n",
            " Fathima.gdoc\n",
            "'Fathima Letter.gdoc'\n",
            " Fathima.pdf\n",
            " Final.pdf\n",
            "'Final report.gdoc'\n",
            "'FINAL REPORT-SAHADEVI-1811088.gdoc'\n",
            "'F. R. Farhath - UWU CST 20 035.gdoc'\n",
            "'F. R. Farhath -UWU CST 20 035.gdoc'\n",
            "'F. R. Farhath - UWUCST20035.pdf'\n",
            "'GIF from Farhath CST Chilaw'\n",
            "'GR-11-Year End Evaluation-2023[2024]-Sci-1 -Western Province (1).gdoc'\n",
            "'GR-11-Year End Evaluation-2023[2024]-Sci-1 -Western Province.gdoc'\n",
            " GradeCalculator_CST20094.gdoc\n",
            " Group12.gdoc\n",
            "'Group 24 - CST'\n",
            "'Group 24 - CST.gslides'\n",
            "'Group27 Research.docx'\n",
            "'Group Activity 1.gdoc'\n",
            "'Group No-10 (1).gslides'\n",
            " hbjs.drawio.png\n",
            " Hostel.gform\n",
            " HRD_20_021-Raksana.pdf\n",
            "'https:  www.ins.png'\n",
            " IMG-20220319-WA0036.jpg\n",
            "'Individual Activity.gdoc'\n",
            "'Institutional Observation Report-2-2 (3) (1).gdoc'\n",
            "'Institutional Observation Report-2-2 (3).gdoc'\n",
            " JARTEST.csv\n",
            " JARTEST.gsheet\n",
            " JarValidation.xlsx\n",
            " Java.gdoc\n",
            "'JS 1st 2021-12-28 13-04-11.mp4'\n",
            "'L2-Software Processes_I.pptx'\n",
            " Last.gdoc\n",
            "'Lecture 07,08,09.gdoc'\n",
            " Letter.gdoc\n",
            "'Machine learning approaches to improve and predict water quality data.gdoc'\n",
            " Maths-UWUCST20035-FARHATH.pdf\n",
            "'MCA01-UWU CST 20 035.gdoc'\n",
            " Models.gdoc\n",
            "'My First Article.gdoc'\n",
            "'Myone.drawio (2).drawio (1).png'\n",
            " Networking-CST20035-FARHATH.pdf\n",
            " new3.drawio.png\n",
            " New.drawio.png\n",
            " Normalisation.pdf\n",
            "'Paper Template -ASBIRES 2024.gdoc'\n",
            " Part1.circ\n",
            " Part2.circ\n",
            "'Part 3.gdoc'\n",
            "'PDF File.gdoc'\n",
            "'PDF File.pdf'\n",
            " plants.gdoc\n",
            "'Presentation '\n",
            " Presentation1-1.pptx\n",
            " Presentation2.gslides\n",
            "'Principles of  Communication.gslides'\n",
            " PROJECT1_PROPOSAL_MAY_2024.gdoc\n",
            "'Project final-CST 24_13.08.2024.docx.gdoc'\n",
            "'Project-I_Progress (1).gdoc'\n",
            " Project-I_Progress.gdoc\n",
            "'Project-I_ProgressGuidelines (1).gdoc'\n",
            "'Project Virtuosa.pdf'\n",
            "'Project Virtusa.pdf'\n",
            "'Python excercise-Farhath.gdoc'\n",
            " QR06.gslides\n",
            "'QR2&3.gdoc'\n",
            " QR-5.gslides\n",
            "'Questionnaire for Project Virtuosa.pdf'\n",
            " Questionnaire.gslides\n",
            "'Question number 04.gdoc'\n",
            "'Question number 05.gdoc'\n",
            "'Question number 07.gdoc'\n",
            "'Question number 08.gdoc'\n",
            "'Question number 09.gdoc'\n",
            " RAD-Farhath.mp4\n",
            "'Rahman Farhath-CST20035.gdoc'\n",
            "'rename with your enrollment number.pptx'\n",
            " Report12.gdoc\n",
            "'Report final.gdoc'\n",
            " Report.gdoc\n",
            " REPORT.gdoc\n",
            " REPORT-GROUP12-OOP.gdoc\n",
            "'Research Discussion.gdoc'\n",
            "'Results Findings.gdoc'\n",
            "'Risks And Risks Managements.gdoc'\n",
            " Robotics.gdoc\n",
            " Rusthas.docx\n",
            "'script (1) (1).gdoc'\n",
            " script.gdoc\n",
            "'Search Engine Optimization PowerPoint Templates.gslides'\n",
            "'Sexual Dysfunction and disorders of preference and gender related issues for counselling.pptx'\n",
            "'Shifaka Bio-data.gdoc'\n",
            " shutterstock_1871888530.jpg\n",
            "'Social Responsibility.gslides'\n",
            " Speech.gdoc\n",
            "'Sports Project Proposal.gslides'\n",
            " StackBlock.gsheet\n",
            "'Student Information 2022.gsheet'\n",
            "'Summary Measures.gdoc'\n",
            " TEMP.gdoc\n",
            "'The history of the Planet Earth Reading 2.docx'\n",
            "'Time Series_1.mp4'\n",
            "'Time Series_2.mp4'\n",
            "'Time Series_3.mp4'\n",
            " Toward_a_Smart_Real_Time_Monitoring_System_for_Drinking_Water_Based_on_Machine_Learning.pdf\n",
            "'Untitled Diagram (1).drawio'\n",
            "'Untitled Diagram.drawio'\n",
            "'Untitled Diagram.drawio (2).png'\n",
            "'Untitled Diagram.drawio.png'\n",
            "'Untitled document (10).gdoc'\n",
            "'Untitled document (11).gdoc'\n",
            "'Untitled document (12).gdoc'\n",
            "'Untitled document (13).gdoc'\n",
            "'Untitled document (14).gdoc'\n",
            "'Untitled document (15).gdoc'\n",
            "'Untitled document (16).gdoc'\n",
            "'Untitled document (17).gdoc'\n",
            "'Untitled document (18).gdoc'\n",
            "'Untitled document (19).gdoc'\n",
            "'Untitled document (1).gdoc'\n",
            "'Untitled document (20).gdoc'\n",
            "'Untitled document (21).gdoc'\n",
            "'Untitled document (22).gdoc'\n",
            "'Untitled document (23).gdoc'\n",
            "'Untitled document (24).gdoc'\n",
            "'Untitled document (25).gdoc'\n",
            "'Untitled document (26).gdoc'\n",
            "'Untitled document (27).gdoc'\n",
            "'Untitled document (28).gdoc'\n",
            "'Untitled document (29).gdoc'\n",
            "'Untitled document (2).gdoc'\n",
            "'Untitled document (30).gdoc'\n",
            "'Untitled document (31).gdoc'\n",
            "'Untitled document (32).gdoc'\n",
            "'Untitled document (33).gdoc'\n",
            "'Untitled document (34).gdoc'\n",
            "'Untitled document (35).gdoc'\n",
            "'Untitled document (36).gdoc'\n",
            "'Untitled document (37).gdoc'\n",
            "'Untitled document (38).gdoc'\n",
            "'Untitled document (39).gdoc'\n",
            "'Untitled document (39).pdf'\n",
            "'Untitled document (3).gdoc'\n",
            "'Untitled document (40).gdoc'\n",
            "'Untitled document (41).gdoc'\n",
            "'Untitled document (42).gdoc'\n",
            "'Untitled document (43).gdoc'\n",
            "'Untitled document (44).gdoc'\n",
            "'Untitled document (45).gdoc'\n",
            "'Untitled document (46).gdoc'\n",
            "'Untitled document (47).gdoc'\n",
            "'Untitled document (48).gdoc'\n",
            "'Untitled document (49).gdoc'\n",
            "'Untitled document (4).gdoc'\n",
            "'Untitled document (50).gdoc'\n",
            "'Untitled document (5) (1).gdoc'\n",
            "'Untitled document (51).gdoc'\n",
            "'Untitled document (5).gdoc'\n",
            "'Untitled document (6).gdoc'\n",
            "'Untitled document (7).gdoc'\n",
            "'Untitled document (8).gdoc'\n",
            "'Untitled document (9).gdoc'\n",
            "'Untitled document.gdoc'\n",
            "'Untitled folder'\n",
            "'Untitled form.gform'\n",
            "'Untitled presentation (1).gslides'\n",
            "'Untitled presentation (2).gslides'\n",
            "'Untitled presentation (3).gslides'\n",
            "'Untitled presentation (4).gslides'\n",
            "'Untitled presentation.gslides'\n",
            "'Untitled spreadsheet.gsheet'\n",
            " UWU_CAT_20_035.pdf\n",
            "'UWU CST 20 035'\n",
            "'UWU CST 20 035 (1).pdf'\n",
            "'UWUCST20035 (1).pdf'\n",
            "'UWUCST20035 (2).pdf'\n",
            "'UWUCST20035 (3).pdf'\n",
            " UWUCST20035_BA.pdf\n",
            " UWUCST20035-DMATHS.pdf\n",
            "'UWUCST20035-FARHATH (1).pdf'\n",
            "'UWU CST 20 035-FARHATH.gdoc'\n",
            "'UWU CST 20 035- FARHATH.gdoc'\n",
            " UWUCST20035-FARHATH.pdf\n",
            "'UWU_CST_20_035- Farhath.pdf'\n",
            "'UWU CST 20 035- FARHATH.pdf'\n",
            " UWU_CST_20_035-FARHATH_TAMIL.pdf\n",
            "'UWU_CST_20_035- F.R. FARHATH.pdf'\n",
            "'UWU CST 20 035.gdoc'\n",
            " UWUCST20035.jpeg\n",
            " UWUCST20035.mp4\n",
            "'UWUCST20035-PART2 (1).pdf'\n",
            "'UWUCST20035-PART2 (2).pdf'\n",
            "'UWUCST20035-PART2 (3).pdf'\n",
            " UWUCST20035-PART2.pdf\n",
            "'UWU CST 20 035.pdf'\n",
            " UWU_CST_20_035.pdf\n",
            " UWUCST20035.pdf\n",
            "'UWU CST 20 035-QR.pdf'\n",
            "'UWU CST 20 035-RAHMAN FARHATH (1).gdoc'\n",
            "'UWU CST 20 035-RAHMAN FARHATH.gdoc'\n",
            " UWUCST20035_SE.pdf\n",
            " UWU_CST_20_035-TAMIL.pdf\n",
            " UWUCST20035_UIUX.pdf\n",
            " VID-20221025-WA0018.mp4\n",
            " VID-20221025-WA0020.mp4\n",
            " VID-20221025-WA0021.mp4\n",
            " VID-20221025-WA0039.mp4\n",
            " Video1.gslides\n",
            " Video2.gslides\n",
            " Video3.gslides\n",
            " Video4.gslides\n",
            " Video5.gslides\n",
            " Video6.gslides\n",
            " Video7.gslides\n",
            " Video8.gslides\n",
            "'Video from Farhath CST Chilaw'\n",
            "'Water Quality Matters A Brief Overview.gslides'\n",
            "'Weakness Points.gdoc'\n",
            "'WEB APPLICATION DEVELOPMENT.gdoc'\n",
            " Workshop240422.jpg\n",
            "'wrong (1).gdoc'\n",
            " wrong.gdoc\n",
            "'Zoom Meeting 2022-04-19 11-03-19.zip'\n",
            "'Zoom Meeting 2022-05-25 10-05-24.zip'\n"
          ]
        }
      ]
    },
    {
      "cell_type": "code",
      "source": [
        "# Load the dataset\n",
        "data = pd.read_csv('/mydrive/JARTEST.csv')\n",
        "print(data.head())\n",
        "\n",
        "# Check for missing values\n",
        "sns.heatmap(data.isnull(), yticklabels=False, cbar=False, cmap='viridis')"
      ],
      "metadata": {
        "colab": {
          "base_uri": "https://localhost:8080/",
          "height": 755
        },
        "id": "rykR-XVjLxsi",
        "outputId": "7809fc1a-5374-41db-9353-9cea3f1bbe43"
      },
      "execution_count": 5,
      "outputs": [
        {
          "output_type": "stream",
          "name": "stdout",
          "text": [
            "         Date  Raw_Turbidity  Raw_PH  Raw_Colour  PAC  KMnO4  ACD  Turbidity  \\\n",
            "0  31/12/2019           90.4    7.07       500.0  2.5    0.4  0.5       19.0   \n",
            "1  31/12/2019           90.4    7.07       500.0  3.0    0.4  0.5       14.2   \n",
            "2  31/12/2019           90.4    7.07       500.0  3.5    0.4  0.5       12.6   \n",
            "3  31/12/2019           90.4    7.07       500.0  4.0    0.4  0.5       10.6   \n",
            "4  31/12/2019           90.4    7.07       500.0  4.5    0.4  0.5       10.7   \n",
            "\n",
            "     PH  Colour  \n",
            "0  7.07    48.0  \n",
            "1  7.05    39.0  \n",
            "2  7.02    31.0  \n",
            "3  6.98    27.0  \n",
            "4  6.93    29.0  \n"
          ]
        },
        {
          "output_type": "execute_result",
          "data": {
            "text/plain": [
              "<Axes: >"
            ]
          },
          "metadata": {},
          "execution_count": 5
        },
        {
          "output_type": "display_data",
          "data": {
            "text/plain": [
              "<Figure size 640x480 with 1 Axes>"
            ],
            "image/png": "[encoded data removed]"
          },
          "metadata": {}
        }
      ]
    },
    {
      "cell_type": "code",
      "source": [
        "# Drop the 'date' column if it exists\n",
        "data = data.drop(columns=['date'], errors='ignore')"
      ],
      "metadata": {
        "id": "nuUhLBb2L1Yg"
      },
      "execution_count": 6,
      "outputs": []
    },
    {
      "cell_type": "code",
      "source": [
        "# Define features and targets\n",
        "features = ['Raw_Turbidity', 'Raw_PH', 'Raw_Colour', 'PAC', 'KMnO4', 'ACD']\n",
        "targets = ['Turbidity', 'PH', 'Colour']\n",
        "\n",
        "X = data[features]\n",
        "y = data[targets]"
      ],
      "metadata": {
        "id": "HShkulHdL5FO"
      },
      "execution_count": 7,
      "outputs": []
    },
    {
      "cell_type": "code",
      "source": [
        "# Split the data\n",
        "X_train, X_temp, y_train, y_temp = train_test_split(X, y, test_size=0.2, random_state=42)\n",
        "X_test, X_val, y_test, y_val = train_test_split(X_temp, y_temp, test_size=0.5, random_state=42)"
      ],
      "metadata": {
        "id": "slATukaKL9PF"
      },
      "execution_count": 10,
      "outputs": []
    },
    {
      "cell_type": "code",
      "source": [
        "# Hyperparameter tuning\n",
        "param_grid = {\n",
        "    'n_estimators': [100, 200, 300],\n",
        "    'max_depth': [10, 20, None],\n",
        "    'min_samples_split': [2, 5, 10],\n",
        "    'min_samples_leaf': [1, 2, 4],\n",
        "    'max_features': [None, 'sqrt', 'log2']\n",
        "}\n",
        "\n",
        "grid_search = GridSearchCV(RandomForestRegressor(random_state=42), param_grid, scoring='neg_mean_absolute_error', cv=3, n_jobs=-1)\n",
        "grid_search.fit(X_train, y_train)\n",
        "\n",
        "best_model = grid_search.best_estimator_\n",
        "print(\"Best Parameters:\", grid_search.best_params_)"
      ],
      "metadata": {
        "colab": {
          "base_uri": "https://localhost:8080/"
        },
        "id": "8a0EC_tXMI7f",
        "outputId": "b7a5f9ba-85fd-4ae9-862a-ca16fd5f65bb"
      },
      "execution_count": 11,
      "outputs": [
        {
          "output_type": "stream",
          "name": "stdout",
          "text": [
            "Best Parameters: {'max_depth': None, 'max_features': 'sqrt', 'min_samples_leaf': 1, 'min_samples_split': 2, 'n_estimators': 300}\n"
          ]
        }
      ]
    },
    {
      "cell_type": "code",
      "source": [
        "# Predictions\n",
        "y_test_pred = best_model.predict(X_test)\n",
        "y_val_pred = best_model.predict(X_val)"
      ],
      "metadata": {
        "id": "i5Sy6XV4Mvo8"
      },
      "execution_count": 12,
      "outputs": []
    },
    {
      "cell_type": "code",
      "source": [
        "# Evaluation\n",
        "test_mae = mean_absolute_error(y_test, y_test_pred)\n",
        "test_r2 = r2_score(y_test, y_test_pred)\n",
        "val_mae = mean_absolute_error(y_val, y_val_pred)\n",
        "val_r2 = r2_score(y_val, y_val_pred)\n",
        "\n",
        "print(f\"Testing MAE: {test_mae:.2f}, R²: {test_r2:.2f}\")\n",
        "print(f\"Validation MAE: {val_mae:.2f}, R²: {val_r2:.2f}\")"
      ],
      "metadata": {
        "colab": {
          "base_uri": "https://localhost:8080/"
        },
        "id": "VVe-uwMLQHQ4",
        "outputId": "f31670e2-3c9f-4a6b-85b5-643d1ab02e44"
      },
      "execution_count": 13,
      "outputs": [
        {
          "output_type": "stream",
          "name": "stdout",
          "text": [
            "Testing MAE: 6.09, R²: 0.72\n",
            "Validation MAE: 5.76, R²: 0.74\n"
          ]
        }
      ]
    },
    {
      "cell_type": "code",
      "source": [
        "# Evaluate model accuracy per target\n",
        "def evaluate_accuracy(y_true, y_pred, dataset_name):\n",
        "    print(f\"\\n{dataset_name} Accuracy per Target:\")\n",
        "    for i, target in enumerate(targets):\n",
        "        mae = mean_absolute_error(y_true.iloc[:, i], y_pred[:, i])\n",
        "        r2 = r2_score(y_true.iloc[:, i], y_pred[:, i]) * 100\n",
        "        print(f\"{target}: MAE = {mae:.2f}, R² = {r2:.2f}%\")\n"
      ],
      "metadata": {
        "id": "KeI16FC1QMA3"
      },
      "execution_count": 14,
      "outputs": []
    },
    {
      "cell_type": "code",
      "source": [
        "# Evaluate on Testing and Validation sets\n",
        "evaluate_accuracy(y_test, y_test_pred, \"Testing\")\n",
        "evaluate_accuracy(y_val, y_val_pred, \"Validation\")"
      ],
      "metadata": {
        "colab": {
          "base_uri": "https://localhost:8080/"
        },
        "id": "U9AT7m9CQSyF",
        "outputId": "38f14afc-d6b8-47c6-d351-82ad7b84a970"
      },
      "execution_count": 15,
      "outputs": [
        {
          "output_type": "stream",
          "name": "stdout",
          "text": [
            "\n",
            "Testing Accuracy per Target:\n",
            "Turbidity: MAE = 4.11, R² = 65.20%\n",
            "PH: MAE = 0.07, R² = 84.86%\n",
            "Colour: MAE = 14.08, R² = 66.23%\n",
            "\n",
            "Validation Accuracy per Target:\n",
            "Turbidity: MAE = 4.06, R² = 67.06%\n",
            "PH: MAE = 0.06, R² = 86.37%\n",
            "Colour: MAE = 13.16, R² = 69.29%\n"
          ]
        }
      ]
    },
    {
      "cell_type": "code",
      "source": [
        "# Calculate overall accuracy\n",
        "def calculate_overall_accuracy(y_true, y_pred):\n",
        "    r2_scores = [r2_score(y_true.iloc[:, i], y_pred[:, i]) for i in range(len(targets))]\n",
        "    overall_r2 = sum(r2_scores) / len(r2_scores) * 100\n",
        "    return overall_r2\n",
        "\n",
        "overall_test_accuracy = calculate_overall_accuracy(y_test, y_test_pred)\n",
        "overall_val_accuracy = calculate_overall_accuracy(y_val, y_val_pred)\n",
        "\n",
        "print(f\"\\nOverall Testing Accuracy: {overall_test_accuracy:.2f}%\")\n",
        "print(f\"Overall Validation Accuracy: {overall_val_accuracy:.2f}%\")"
      ],
      "metadata": {
        "colab": {
          "base_uri": "https://localhost:8080/"
        },
        "id": "sA9JQeE_QWzW",
        "outputId": "3202d16f-0fc4-4d3a-89a4-e8d7f0d7ed40"
      },
      "execution_count": 16,
      "outputs": [
        {
          "output_type": "stream",
          "name": "stdout",
          "text": [
            "\n",
            "Overall Testing Accuracy: 72.10%\n",
            "Overall Validation Accuracy: 74.24%\n"
          ]
        }
      ]
    },
    {
      "cell_type": "code",
      "source": [
        "# Sample Prediction\n",
        "sample_input = pd.DataFrame({\n",
        "    'Raw_Turbidity': [90.4, 90.4, 90.4, 90.4, 90.4, 90.4],\n",
        "    'Raw_PH': [7.07, 7.07, 7.07, 7.07, 7.07, 7.07],\n",
        "    'Raw_Colour': [500, 500, 500, 500, 500, 500],\n",
        "    'PAC': [2.5, 3.0, 3.5, 4.0, 4.5, 5],\n",
        "    'KMnO4': [0.4, 0.4, 0.4, 0.4, 0.4, 0.4],\n",
        "    'ACD': [0.5, 0.5, 0.5, 0.5, 0.5, 0.5]\n",
        "})\n",
        "\n",
        "sample_prediction = best_model.predict(sample_input)\n",
        "sample_results = pd.DataFrame(sample_prediction, columns=targets)\n",
        "\n",
        "print(\"\\nSample Predictions:\")\n",
        "print(sample_results)"
      ],
      "metadata": {
        "colab": {
          "base_uri": "https://localhost:8080/"
        },
        "id": "6Gi6UuP6Q2un",
        "outputId": "c6486e32-4ed9-4510-a937-c61bc0e7fc9b"
      },
      "execution_count": 17,
      "outputs": [
        {
          "output_type": "stream",
          "name": "stdout",
          "text": [
            "\n",
            "Sample Predictions:\n",
            "   Turbidity        PH     Colour\n",
            "0  20.653367  7.050233  52.617333\n",
            "1  16.900667  7.038900  41.853333\n",
            "2  14.829633  7.006500  33.003333\n",
            "3  12.539733  6.979167  29.356667\n",
            "4  11.903933  6.945467  29.670000\n",
            "5  13.250000  6.924300  32.280000\n"
          ]
        }
      ]
    },
    {
      "cell_type": "code",
      "source": [
        "# Function to calculate overall accuracy (R² average)\n",
        "def calculate_overall_accuracy(y_true, y_pred):\n",
        "    r2_scores = [\n",
        "        r2_score(y_true.iloc[:, i], y_pred.iloc[:, i])\n",
        "        for i in range(len(targets))\n",
        "    ]\n",
        "    overall_r2 = sum(r2_scores) / len(r2_scores) * 100  # Convert to percentage\n",
        "    return overall_r2\n",
        "\n",
        "# Function to evaluate sample predictions\n",
        "def evaluate_sample_predictions(y_true, y_pred):\n",
        "    # Convert y_pred to a pandas DataFrame if it's not already\n",
        "    y_pred_df = pd.DataFrame(y_pred, columns=targets)\n",
        "\n",
        "    print(\"\\nSample Prediction Accuracy per Target:\")\n",
        "    for i, target in enumerate(targets):\n",
        "        mae = mean_absolute_error(y_true.iloc[:, i], y_pred_df.iloc[:, i])\n",
        "        r2 = r2_score(y_true.iloc[:, i], y_pred_df.iloc[:, i]) * 100  # R² in percentage\n",
        "        accuracy = 100 - mae  # Approximation for prediction accuracy\n",
        "        print(f\"{target}:\")\n",
        "        print(f\"  MAE: {mae:.2f}\")\n",
        "        print(f\"  R² (Percentage Accuracy): {r2:.2f}%\")\n",
        "        print(f\"  Approximate Prediction Accuracy: {accuracy:.2f}%\")\n",
        "\n",
        "    # Calculate overall R² and overall accuracy\n",
        "    overall_r2 = calculate_overall_accuracy(y_true, y_pred_df)\n",
        "    print(f\"\\nOverall R² (Percentage Accuracy): {overall_r2:.2f}%\")\n",
        "\n",
        "    overall_mae = sum(\n",
        "        mean_absolute_error(y_true.iloc[:, i], y_pred_df.iloc[:, i])\n",
        "        for i in range(len(targets))\n",
        "    ) / len(targets)\n",
        "    print(f\"Overall MAE: {overall_mae:.2f}\")\n",
        "    overall_accuracy = 100 - overall_mae\n",
        "    print(f\"Overall Approximate Accuracy: {overall_accuracy:.2f}%\")\n",
        "\n",
        "# Expected Values (Ground Truth)\n",
        "expected_values = pd.DataFrame({\n",
        "    'Turbidity': [19, 14.2, 12.6, 10.6, 10.7, 13.6],\n",
        "    'PH': [7.07, 7.05, 7.02, 6.98, 6.93, 6.90],\n",
        "    'Colour': [48, 39, 31, 27, 29, 34]\n",
        "})\n",
        "\n",
        "# Predicted Values (Sample Results)\n",
        "sample_results = pd.DataFrame({\n",
        "    'Turbidity': [20.653367, 16.900667, 14.829633, 12.539733, 11.903933, 13.250000],\n",
        "    'PH': [7.050233, 7.038900, 7.006500, 6.979167, 6.945467, 6.924300],\n",
        "    'Colour': [52.617333, 41.853333, 33.003333, 29.356667, 29.670000, 32.280000]\n",
        "})\n",
        "\n",
        "# Evaluate the sample predictions\n",
        "evaluate_sample_predictions(expected_values, sample_results)\n"
      ],
      "metadata": {
        "colab": {
          "base_uri": "https://localhost:8080/"
        },
        "id": "M7s2ySUvRecl",
        "outputId": "82692433-5894-4f22-98fd-b35459a79f93"
      },
      "execution_count": 23,
      "outputs": [
        {
          "output_type": "stream",
          "name": "stdout",
          "text": [
            "\n",
            "Sample Prediction Accuracy per Target:\n",
            "Turbidity:\n",
            "  MAE: 1.68\n",
            "  R² (Percentage Accuracy): 57.46%\n",
            "  Approximate Prediction Accuracy: 98.32%\n",
            "PH:\n",
            "  MAE: 0.01\n",
            "  R² (Percentage Accuracy): 93.27%\n",
            "  Approximate Prediction Accuracy: 99.99%\n",
            "Colour:\n",
            "  MAE: 2.37\n",
            "  R² (Percentage Accuracy): 85.92%\n",
            "  Approximate Prediction Accuracy: 97.63%\n",
            "\n",
            "Overall R² (Percentage Accuracy): 78.88%\n",
            "Overall MAE: 1.35\n",
            "Overall Approximate Accuracy: 98.65%\n"
          ]
        }
      ]
    }
  ]
}